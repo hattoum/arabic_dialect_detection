{
 "cells": [
  {
   "cell_type": "code",
   "execution_count": 1,
   "metadata": {},
   "outputs": [],
   "source": [
    "import numpy as np\n",
    "import pandas as pd\n",
    "import regex as re\n",
    "import matplotlib.pyplot as plt"
   ]
  },
  {
   "cell_type": "code",
   "execution_count": 2,
   "metadata": {},
   "outputs": [],
   "source": [
    "data = pd.read_csv(\"../data/texts.csv\")"
   ]
  },
  {
   "cell_type": "code",
   "execution_count": 3,
   "metadata": {},
   "outputs": [],
   "source": [
    "data[\"length\"] = data.text.str.len()"
   ]
  },
  {
   "cell_type": "code",
   "execution_count": 4,
   "metadata": {},
   "outputs": [
    {
     "data": {
      "text/plain": [
       "count    458197.000000\n",
       "mean         89.014223\n",
       "std          56.379156\n",
       "min           7.000000\n",
       "25%          49.000000\n",
       "50%          72.000000\n",
       "75%         114.000000\n",
       "max         823.000000\n",
       "Name: length, dtype: float64"
      ]
     },
     "execution_count": 4,
     "metadata": {},
     "output_type": "execute_result"
    }
   ],
   "source": [
    "data.length.describe()"
   ]
  },
  {
   "cell_type": "code",
   "execution_count": 5,
   "metadata": {},
   "outputs": [
    {
     "data": {
      "text/html": [
       "<div>\n",
       "<style scoped>\n",
       "    .dataframe tbody tr th:only-of-type {\n",
       "        vertical-align: middle;\n",
       "    }\n",
       "\n",
       "    .dataframe tbody tr th {\n",
       "        vertical-align: top;\n",
       "    }\n",
       "\n",
       "    .dataframe thead th {\n",
       "        text-align: right;\n",
       "    }\n",
       "</style>\n",
       "<table border=\"1\" class=\"dataframe\">\n",
       "  <thead>\n",
       "    <tr style=\"text-align: right;\">\n",
       "      <th></th>\n",
       "      <th>id</th>\n",
       "      <th>dialect</th>\n",
       "      <th>text</th>\n",
       "      <th>length</th>\n",
       "    </tr>\n",
       "  </thead>\n",
       "  <tbody>\n",
       "    <tr>\n",
       "      <th>160370</th>\n",
       "      <td>821094022320156672</td>\n",
       "      <td>JO</td>\n",
       "      <td>ي.ن.ا.ت</td>\n",
       "      <td>7</td>\n",
       "    </tr>\n",
       "  </tbody>\n",
       "</table>\n",
       "</div>"
      ],
      "text/plain": [
       "                        id dialect     text  length\n",
       "160370  821094022320156672      JO  ي.ن.ا.ت       7"
      ]
     },
     "execution_count": 5,
     "metadata": {},
     "output_type": "execute_result"
    }
   ],
   "source": [
    "data[data[\"length\"]==7]"
   ]
  },
  {
   "cell_type": "code",
   "execution_count": 6,
   "metadata": {},
   "outputs": [
    {
     "data": {
      "text/plain": [
       "count    457904.000000\n",
       "mean         68.113286\n",
       "std          51.692881\n",
       "min           7.000000\n",
       "25%          31.000000\n",
       "50%          51.000000\n",
       "75%          89.000000\n",
       "max         280.000000\n",
       "Name: text, dtype: float64"
      ]
     },
     "execution_count": 6,
     "metadata": {},
     "output_type": "execute_result"
    }
   ],
   "source": [
    "data_clean = pd.read_csv(\"../data/train_data.csv\")\n",
    "data_clean.text.str.len().describe()"
   ]
  },
  {
   "cell_type": "code",
   "execution_count": 7,
   "metadata": {},
   "outputs": [
    {
     "data": {
      "text/plain": [
       "count    457904.000000\n",
       "mean         13.359051\n",
       "std           9.834935\n",
       "min           4.000000\n",
       "25%           6.000000\n",
       "50%          10.000000\n",
       "75%          17.000000\n",
       "max          88.000000\n",
       "Name: length, dtype: float64"
      ]
     },
     "execution_count": 7,
     "metadata": {},
     "output_type": "execute_result"
    }
   ],
   "source": [
    "data_clean.length.describe()"
   ]
  },
  {
   "cell_type": "code",
   "execution_count": 8,
   "metadata": {},
   "outputs": [
    {
     "data": {
      "image/png": "[encoded data removed]",
      "text/plain": [
       "<Figure size 720x1080 with 2 Axes>"
      ]
     },
     "metadata": {
      "needs_background": "light"
     },
     "output_type": "display_data"
    }
   ],
   "source": [
    "fig, ax = plt.subplots(2,figsize=(10,15))\n",
    "\n",
    "ii = data_clean[data_clean.length>10]\n",
    "tt = data_clean.length.value_counts()\n",
    "\n",
    "ax[0].grid(visible=True,which = \"both\")\n",
    "\n",
    "ax[0].set_xlabel(\"Number of words\")\n",
    "ax[0].set_ylabel(\"Number of samples\")\n",
    "ax[0].set_title(\"Tweet lengths after preprocessing\")\n",
    "ax[0].bar(tt.index,data_clean.length.value_counts().values)\n",
    "\n",
    "labels = data_clean.groupby(\"dialect\")[\"text\"].count().sort_values()\n",
    "\n",
    "ax[1].grid(visible=True)\n",
    "ax[1].set_ylabel(\"Number of samples\")\n",
    "ax[1].set_xlabel(\"Country code\")\n",
    "ax[1].set_title(\"Tweets by dialect\")\n",
    "\n",
    "ax[1].bar(labels.index,labels.values)\n",
    "plt.show()"
   ]
  }
 ],
 "metadata": {
  "interpreter": {
   "hash": "b3ba2566441a7c06988d0923437866b63cedc61552a5af99d1f4fb67d367b25f"
  },
  "kernelspec": {
   "display_name": "Python 3.9.7 ('base')",
   "language": "python",
   "name": "python3"
  },
  "language_info": {
   "codemirror_mode": {
    "name": "ipython",
    "version": 3
   },
   "file_extension": ".py",
   "mimetype": "text/x-python",
   "name": "python",
   "nbconvert_exporter": "python",
   "pygments_lexer": "ipython3",
   "version": "3.9.7"
  },
  "orig_nbformat": 4
 },
 "nbformat": 4,
 "nbformat_minor": 2
}
